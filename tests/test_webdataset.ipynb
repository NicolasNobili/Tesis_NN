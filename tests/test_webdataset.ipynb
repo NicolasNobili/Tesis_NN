{
 "cells": [
  {
   "cell_type": "code",
   "execution_count": 10,
   "id": "2e721031",
   "metadata": {},
   "outputs": [],
   "source": [
    "# ───────────────────────────────────────────────────────────────────────────────\n",
    "# 📦 Standard Library Imports\n",
    "# ───────────────────────────────────────────────────────────────────────────────\n",
    "import os                   # For file and directory manipulation\n",
    "import sys                  # To modify Python path for custom module imports\n",
    "import csv                  # To handle CSV file reading/writing\n",
    "import random               # For generating random numbers\n",
    "import numpy as np          # Numerical operations and array handling\n",
    "import pandas as pd         # DataFrame handling for structured data\n",
    "import matplotlib.pyplot as plt  # Plotting and visualization\n",
    "\n",
    "# ───────────────────────────────────────────────────────────────────────────────\n",
    "# 🌍 Third-Party Library Imports\n",
    "# ───────────────────────────────────────────────────────────────────────────────\n",
    "import torch                # PyTorch: deep learning framework\n",
    "import geopandas as gpd     # For handling geospatial data with GeoDataFrames\n",
    "from torchvision.utils import save_image\n",
    "\n",
    "# ───────────────────────────────────────────────────────────────────────────────\n",
    "# 🧩 Custom Project Modules\n",
    "# ───────────────────────────────────────────────────────────────────────────────\n",
    "\n",
    "# Add custom project folder to system path to enable local module imports\n",
    "sys.path.append('C:/Users/nnobi/Desktop/FIUBA/Tesis/Project')\n",
    "\n",
    "# Import common training routines \n",
    "from project_package.utils import train_common_routines as tcr\n",
    "\n",
    "# Import Sentinel-2 to Venus preprocessing utilities\n",
    "from project_package.data_processing import sen2venus_routines as s2v\n",
    "\n",
    "# Import general utility functions \n",
    "from project_package.utils import utils as utils"
   ]
  },
  {
   "cell_type": "code",
   "execution_count": 18,
   "id": "f162dffe",
   "metadata": {},
   "outputs": [],
   "source": [
    "# Obtener ruta del script y subir un nivel a 'project'\n",
    "# script_dir = os.path.dirname(os.path.abspath(__file__))  # .../project/test\n",
    "script_dir = os.getcwd()\n",
    "project_dir = os.path.abspath(os.path.join(script_dir, '..'))  # .../project\n",
    "\n",
    "# Supongamos que este es tu tensor de imágenes: [N, 3, 256, 256]\n",
    "N = 10\n",
    "tensor_images = torch.randn(N, 3, 256, 256).short()\n",
    "labels = [i % 3 for i in range(N)]  # Ejemplo de etiquetas\n",
    "\n",
    "# Crear carpetas\n",
    "img_folder = \"pt_tensors\"\n",
    "label_folder = \"pt_labels\"\n",
    "os.makedirs(img_folder, exist_ok=True)\n",
    "os.makedirs(label_folder, exist_ok=True)\n",
    "\n",
    "# Guardar cada imagen como .pt\n",
    "for i, img in enumerate(tensor_images):\n",
    "    torch.save(img, os.path.join(img_folder, f\"{i:08d}.pt\"))\n",
    "\n",
    "# Guardar cada etiqueta como archivo .cls\n",
    "for i, label in enumerate(labels):\n",
    "    with open(os.path.join(label_folder, f\"{i:08d}.cls\"), \"w\") as f:\n",
    "        f.write(str(label))"
   ]
  },
  {
   "cell_type": "code",
   "execution_count": 19,
   "id": "f30a16a3",
   "metadata": {},
   "outputs": [],
   "source": [
    "import tarfile\n",
    "\n",
    "def make_pt_tar(pt_dir, labels_dir, output_tar):\n",
    "    with tarfile.open(output_tar, \"w\") as tar:\n",
    "        for filename in sorted(os.listdir(pt_dir)):\n",
    "            base = os.path.splitext(filename)[0]\n",
    "            pt_path = os.path.join(pt_dir, filename)\n",
    "            label_path = os.path.join(labels_dir, base + \".cls\")\n",
    "\n",
    "            tar.add(pt_path, arcname=f\"{base}.pt\")\n",
    "            if os.path.exists(label_path):\n",
    "                tar.add(label_path, arcname=f\"{base}.cls\")\n",
    "            else:\n",
    "                print(f\"Etiqueta no encontrada para {base}\")\n",
    "\n",
    "make_pt_tar(img_folder, label_folder, \"dataset_pt.tar\")\n"
   ]
  },
  {
   "cell_type": "code",
   "execution_count": null,
   "id": "4679c7ed",
   "metadata": {},
   "outputs": [
    {
     "name": "stdout",
     "output_type": "stream",
     "text": [
      "torch.Size([2, 3, 256, 256])\n",
      "tensor([0, 1])\n",
      "torch.Size([2, 3, 256, 256])\n",
      "tensor([1, 0])\n",
      "torch.Size([2, 3, 256, 256])\n",
      "tensor([2, 2])\n",
      "torch.Size([2, 3, 256, 256])\n",
      "tensor([0, 2])\n",
      "torch.Size([2, 3, 256, 256])\n",
      "tensor([1, 0])\n"
     ]
    }
   ],
   "source": [
    "import torch\n",
    "import io\n",
    "import webdataset as wds\n",
    "from torch.utils.data import DataLoader\n",
    "\n",
    "# Decodificador para tensores guardados como .pt (recibe bytes, convierte a Tensor)\n",
    "def decode_pt(byte_data):\n",
    "    tensor = torch.load(io.BytesIO(byte_data)).float()\n",
    "\n",
    "# Dataset WebDataset desde archivo tar\n",
    "dataset = (\n",
    "    wds.WebDataset(\"dataset_pt.tar\")\n",
    "    .to_tuple(\"pt\", \"pt\")\n",
    "    .map_tuple(decode_pt, decode_pt)  # Usamos io.BytesIO para que torch.load funcione\n",
    "    .shuffle(10)\n",
    "    .batched(2)\n",
    ")\n",
    "\n",
    "# DataLoader sin batch_size porque WebDataset ya los hace\n",
    "dataloader = DataLoader(dataset, batch_size=None)\n",
    "\n",
    "# Loop de prueba\n",
    "for images, labels in dataloader:\n",
    "    print(images.shape)  # Ej: torch.Size([2, 3, 256, 256])\n",
    "    print(labels)        # Ej: [0, 1]\n"
   ]
  }
 ],
 "metadata": {
  "kernelspec": {
   "display_name": ".venv",
   "language": "python",
   "name": "python3"
  },
  "language_info": {
   "codemirror_mode": {
    "name": "ipython",
    "version": 3
   },
   "file_extension": ".py",
   "mimetype": "text/x-python",
   "name": "python",
   "nbconvert_exporter": "python",
   "pygments_lexer": "ipython3",
   "version": "3.12.2"
  }
 },
 "nbformat": 4,
 "nbformat_minor": 5
}
