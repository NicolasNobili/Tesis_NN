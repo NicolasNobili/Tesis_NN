{
 "cells": [
  {
   "cell_type": "code",
   "execution_count": 17,
   "id": "acb85c11",
   "metadata": {},
   "outputs": [
    {
     "name": "stdout",
     "output_type": "stream",
     "text": [
      "Tensor cargado: tensor([[[ -6,  20,  -7,  ...,  17,  13, -15],\n",
      "         [ -6, -20,   6,  ...,  -6,  14, -14],\n",
      "         [ -9, -21,  17,  ...,  31,  18,   2],\n",
      "         ...,\n",
      "         [ 37,  62,  48,  ...,  22,  20,  22],\n",
      "         [ 78,  49,  50,  ...,  19,  -7,  -5],\n",
      "         [ 55,  20,  -8,  ...,  19,  32,  33]],\n",
      "\n",
      "        [[169, 187, 161,  ..., 183, 157, 119],\n",
      "         [170, 155, 182,  ..., 175, 157, 119],\n",
      "         [139, 143, 178,  ..., 192, 193, 161],\n",
      "         ...,\n",
      "         [255, 241, 234,  ..., 247, 239, 238],\n",
      "         [287, 234, 233,  ..., 221, 194, 194],\n",
      "         [291, 202, 156,  ..., 203, 209, 208]],\n",
      "\n",
      "        [[ -9,   0,  -8,  ...,  -1,   0, -11],\n",
      "         [ -8, -14,  -4,  ..., -10,  -1, -12],\n",
      "         [-11, -16,   0,  ...,   6,   0,  -5],\n",
      "         ...,\n",
      "         [  7,  18,  12,  ...,   2,   2,   1],\n",
      "         [ 23,  12,  11,  ...,   1,  -8,  -9],\n",
      "         [ 11,   0, -11,  ...,   0,   6,   5]]], dtype=torch.int16)\n",
      "Shape: torch.Size([3, 256, 256])\n",
      "Tamaño del archivo en bytes: 394793\n"
     ]
    }
   ],
   "source": [
    "import tarfile\n",
    "import io\n",
    "import torch\n",
    "\n",
    "def load_tensor_and_size_from_tar(tar_path, pt_filename):\n",
    "    with tarfile.open(tar_path, 'r') as tar:\n",
    "        try:\n",
    "            member = tar.getmember(pt_filename)\n",
    "        except KeyError:\n",
    "            print(f\"No se encontró el archivo {pt_filename} en {tar_path}\")\n",
    "            return None, None\n",
    "        \n",
    "        # Tamaño en bytes del archivo dentro del tar\n",
    "        size_bytes = member.size\n",
    "        \n",
    "        extracted = tar.extractfile(member)\n",
    "        if extracted is None:\n",
    "            print(f\"No se pudo extraer el archivo {pt_filename}\")\n",
    "            return None, size_bytes\n",
    "        \n",
    "        file_bytes = extracted.read()\n",
    "        buffer = io.BytesIO(file_bytes)\n",
    "        \n",
    "        tensor = torch.load(buffer)\n",
    "        return tensor, size_bytes\n",
    "\n",
    "# Ejemplo\n",
    "ruta_tar = 'C:/Users/nnobi/Desktop/FIUBA/Tesis/Project/datasets/messi/test.tar'\n",
    "nombre_pt = '00000001.pt_output.pt'\n",
    "\n",
    "tensor, size_bytes = load_tensor_and_size_from_tar(ruta_tar, nombre_pt)\n",
    "if tensor is not None:\n",
    "    print(\"Tensor cargado:\", tensor)\n",
    "    print(\"Shape:\", tensor.shape)\n",
    "    print(f\"Tamaño del archivo en bytes: {size_bytes}\")\n"
   ]
  }
 ],
 "metadata": {
  "kernelspec": {
   "display_name": ".venv",
   "language": "python",
   "name": "python3"
  },
  "language_info": {
   "codemirror_mode": {
    "name": "ipython",
    "version": 3
   },
   "file_extension": ".py",
   "mimetype": "text/x-python",
   "name": "python",
   "nbconvert_exporter": "python",
   "pygments_lexer": "ipython3",
   "version": "3.12.2"
  }
 },
 "nbformat": 4,
 "nbformat_minor": 5
}
